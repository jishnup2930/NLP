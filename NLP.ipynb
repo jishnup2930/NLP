{
 "cells": [
  {
   "cell_type": "markdown",
   "id": "01da5c33",
   "metadata": {},
   "source": [
    "### Regular expressions"
   ]
  },
  {
   "cell_type": "code",
   "execution_count": 6,
   "id": "e8605272",
   "metadata": {},
   "outputs": [],
   "source": [
    "import re\n",
    "# ^-starting with,$-ends,*-all the characters b/w them"
   ]
  },
  {
   "cell_type": "code",
   "execution_count": 7,
   "id": "e22efe7f",
   "metadata": {},
   "outputs": [
    {
     "name": "stdout",
     "output_type": "stream",
     "text": [
      "<re.Match object; span=(0, 26), match='The rain in Spain is Spain'>\n"
     ]
    }
   ],
   "source": [
    "txt='The rain in Spain is Spain'\n",
    "x=re.search('^The.* Spain$',txt)#starting with the ending with the spain with all characters in between\n",
    "print(x)"
   ]
  },
  {
   "cell_type": "code",
   "execution_count": 8,
   "id": "987dc1a7",
   "metadata": {},
   "outputs": [
    {
     "name": "stdout",
     "output_type": "stream",
     "text": [
      "<re.Match object; span=(0, 26), match='The rain in Spain is Spain'>\n"
     ]
    }
   ],
   "source": [
    "txt='The rain in Spain is Spain'\n",
    "x=re.search('^The.* Spain$',txt)#starting with the ending with the spain with all characters in between\n",
    "print(x)"
   ]
  },
  {
   "cell_type": "code",
   "execution_count": 9,
   "id": "abe6d998",
   "metadata": {},
   "outputs": [
    {
     "name": "stdout",
     "output_type": "stream",
     "text": [
      "['ai', 'ai']\n"
     ]
    }
   ],
   "source": [
    "#finding all patterns\n",
    "txt='The rain in spain'\n",
    "x=re.findall('ai',txt)\n",
    "print(x)"
   ]
  },
  {
   "cell_type": "code",
   "execution_count": 10,
   "id": "cda50ecb",
   "metadata": {},
   "outputs": [
    {
     "name": "stdout",
     "output_type": "stream",
     "text": [
      "[]\n"
     ]
    }
   ],
   "source": [
    "txt='The rain in spain'\n",
    "x=re.findall('and',txt)\n",
    "print(x)"
   ]
  },
  {
   "cell_type": "code",
   "execution_count": 11,
   "id": "6867b18e",
   "metadata": {},
   "outputs": [
    {
     "name": "stdout",
     "output_type": "stream",
     "text": [
      "<re.Match object; span=(3, 4), match=' '>\n",
      "The first white space character is located in position: 3\n"
     ]
    }
   ],
   "source": [
    "#find the first white space position\n",
    "\n",
    "txt='The rain in spain'\n",
    "x=re.search('\\s',txt)\n",
    "print(x)\n",
    "print('The first white space character is located in position:',x.start())\n",
    "\n"
   ]
  },
  {
   "cell_type": "code",
   "execution_count": 12,
   "id": "03687cb8",
   "metadata": {},
   "outputs": [
    {
     "name": "stdout",
     "output_type": "stream",
     "text": [
      "['The', 'rain', 'in', 'spain']\n"
     ]
    }
   ],
   "source": [
    "#split at each white space character\n",
    "txt='The rain in spain'\n",
    "x=re.split('\\s',txt)\n",
    "print(x)"
   ]
  },
  {
   "cell_type": "code",
   "execution_count": 13,
   "id": "c839659d",
   "metadata": {},
   "outputs": [
    {
     "name": "stdout",
     "output_type": "stream",
     "text": [
      "The9rain9in9spain\n"
     ]
    }
   ],
   "source": [
    "#Replace the white space with 9\n",
    "txt='The rain in spain'\n",
    "x=re.sub('\\s','9',txt)\n",
    "print(x)\n"
   ]
  },
  {
   "cell_type": "code",
   "execution_count": 14,
   "id": "5f3f1f00",
   "metadata": {},
   "outputs": [
    {
     "name": "stdout",
     "output_type": "stream",
     "text": [
      "The9rain9in spain\n"
     ]
    }
   ],
   "source": [
    "#replace first n white space with 0\n",
    "txt='The rain in spain'\n",
    "x=re.sub('\\s','0',txt,2)\n",
    "print(x)\n"
   ]
  },
  {
   "cell_type": "code",
   "execution_count": 1,
   "id": "e79036c7",
   "metadata": {},
   "outputs": [
    {
     "name": "stdout",
     "output_type": "stream",
     "text": [
      "['h', 'e', 'r', 'a', 'i', 'n', 'i', 'n', 's', 'a', 'i', 'n']\n"
     ]
    }
   ],
   "source": [
    "#finding all lower case characters alphabetically between'a' and 'z'\n",
    "import re\n",
    "txt='The rain in sPain'\n",
    "x=re.findall('[a-z]',txt)\n",
    "print(x)"
   ]
  },
  {
   "cell_type": "code",
   "execution_count": 16,
   "id": "3774c495",
   "metadata": {},
   "outputs": [
    {
     "name": "stdout",
     "output_type": "stream",
     "text": [
      "['5', '9']\n"
     ]
    }
   ],
   "source": [
    "#finding digit characters\n",
    "txt='It will be 59 dollars'\n",
    "x=re.findall('\\d',txt)\n",
    "print(x)"
   ]
  },
  {
   "cell_type": "code",
   "execution_count": 17,
   "id": "80d6f730",
   "metadata": {},
   "outputs": [
    {
     "name": "stdout",
     "output_type": "stream",
     "text": [
      "['hello']\n"
     ]
    }
   ],
   "source": [
    "#starting with he and two letters in between and ending with o\n",
    "txt='hello world'\n",
    "x=re.findall('h..lo',txt)\n",
    "print(x)\n"
   ]
  },
  {
   "cell_type": "code",
   "execution_count": 18,
   "id": "a5cbed1e",
   "metadata": {},
   "outputs": [
    {
     "name": "stdout",
     "output_type": "stream",
     "text": [
      "['all']\n",
      "Yes, there is atleast one match\n"
     ]
    }
   ],
   "source": [
    "#check if the string contains 'a' followed by exactly two l characters:\n",
    "import re\n",
    "txt='The rain in spain falls mainly in the plain'\n",
    "x=re.findall('al{2}',txt)\n",
    "print(x)\n",
    "\n",
    "if x:\n",
    "    print('Yes, there is atleast one match')\n",
    "else:\n",
    "    print('No match')"
   ]
  },
  {
   "cell_type": "code",
   "execution_count": 19,
   "id": "c96c0075",
   "metadata": {},
   "outputs": [
    {
     "name": "stdout",
     "output_type": "stream",
     "text": [
      "['in', 'in', 'in', 'falls', 'in', 'in', 'in']\n",
      "Yes, there is atleast one match\n"
     ]
    }
   ],
   "source": [
    "#check if the string contains either falls or stays\n",
    "txt='The rain in spain falls mainly in the plain'\n",
    "x=re.findall('falls|in',txt)\n",
    "print(x)\n",
    "\n",
    "if x:\n",
    "    print('Yes, there is atleast one match')\n",
    "else:\n",
    "    print('No match')"
   ]
  },
  {
   "cell_type": "code",
   "execution_count": 4,
   "id": "2263b09b",
   "metadata": {},
   "outputs": [
    {
     "name": "stdout",
     "output_type": "stream",
     "text": [
      "['T']\n",
      "Yes, there is atleast one match\n"
     ]
    }
   ],
   "source": [
    "#check if the string starts with 'the'\n",
    "txt='The rain in spain falls mainly in the plain'\n",
    "x=re.findall('\\AT',txt)\n",
    "print(x)\n",
    "\n",
    "if x:\n",
    "    print('Yes, there is atleast one match')\n",
    "else:\n",
    "    print('No match')\n"
   ]
  },
  {
   "cell_type": "code",
   "execution_count": 6,
   "id": "7bb27a2a",
   "metadata": {},
   "outputs": [
    {
     "name": "stdout",
     "output_type": "stream",
     "text": [
      "['I', 't', ' ', 'w', 'i', 'l', 'l', ' ', 'b', 'e', ' ', ' ', 'd', 'o', 'l', 'l', 'a', 'r', 's']\n",
      "Yes, there is atleast one match\n"
     ]
    }
   ],
   "source": [
    "#finding characters except digit characters\n",
    "txt='It will be 59 dollars'\n",
    "x=re.findall('\\D',txt)\n",
    "print(x)\n",
    "\n",
    "if x:\n",
    "    print('Yes, there is atleast one match')\n",
    "else:\n",
    "    print('No match')\n"
   ]
  },
  {
   "cell_type": "code",
   "execution_count": 22,
   "id": "81e2671b",
   "metadata": {},
   "outputs": [
    {
     "name": "stdout",
     "output_type": "stream",
     "text": [
      "[' ', ' ', ' ']\n",
      "Yes, there is atleast one match\n"
     ]
    }
   ],
   "source": [
    "#find a match at all white space character\n",
    "txt='The rain in spain'\n",
    "x=re.findall('\\s',txt)\n",
    "print(x)\n",
    "\n",
    "if x:\n",
    "    print('Yes, there is atleast one match')\n",
    "else:\n",
    "    print('No match')\n",
    "\n"
   ]
  },
  {
   "cell_type": "code",
   "execution_count": 23,
   "id": "be2a42a0",
   "metadata": {},
   "outputs": [
    {
     "name": "stdout",
     "output_type": "stream",
     "text": [
      "['T', 'h', 'e', 'r', 'a', 'i', 'n', 'i', 'n', 's', 'p', 'a', 'i', 'n']\n",
      "Yes, there is atleast one match\n"
     ]
    }
   ],
   "source": [
    "#find a match at all non-white space character\n",
    "txt='The rain in spain'\n",
    "x=re.findall('\\S',txt)\n",
    "print(x)\n",
    "\n",
    "if x:\n",
    "    print('Yes, there is atleast one match')\n",
    "else:\n",
    "    print('No match')\n",
    "\n"
   ]
  },
  {
   "cell_type": "code",
   "execution_count": 24,
   "id": "02572fd5",
   "metadata": {},
   "outputs": [
    {
     "name": "stdout",
     "output_type": "stream",
     "text": [
      "['T', 'h', 'e', 'r', 'a', 'i', 'n', 'i', 'n', 's', 'p', 'a', 'i', 'n', '_', '2', '0', '1', '9']\n",
      "Yes, there is atleast one match\n"
     ]
    }
   ],
   "source": [
    "#Find a match at character a-z,A-Z,0-9,_\n",
    "txt='The rain in spain_2019!,'\n",
    "x=re.findall('\\w',txt)\n",
    "print(x)\n",
    "\n",
    "if x:\n",
    "    print('Yes, there is atleast one match')\n",
    "else:\n",
    "    print('No match')\n"
   ]
  },
  {
   "cell_type": "code",
   "execution_count": 25,
   "id": "99274298",
   "metadata": {},
   "outputs": [
    {
     "name": "stdout",
     "output_type": "stream",
     "text": [
      "['r', 'a', 'n', 'n', 'a', 'n']\n",
      "Yes, there is atleast one match\n"
     ]
    }
   ],
   "source": [
    "#find a match for a,r or n,finding individual characters\n",
    "txt='The rain in spain'\n",
    "x=re.findall('[arn]',txt)\n",
    "print(x)\n",
    "\n",
    "if x:\n",
    "    print('Yes, there is atleast one match')\n",
    "else:\n",
    "    print('No match')\n",
    "\n"
   ]
  },
  {
   "cell_type": "code",
   "execution_count": 26,
   "id": "1d4aa3de",
   "metadata": {},
   "outputs": [
    {
     "name": "stdout",
     "output_type": "stream",
     "text": [
      "['h', 'e', 'a', 'i', 'n', 'i', 'n', 'a', 'i', 'n']\n",
      "Yes, there is atleast one match\n"
     ]
    }
   ],
   "source": [
    "#find charactrs b/w a-n\n",
    "txt='The rain in spain'\n",
    "x=re.findall('[a-n]',txt)\n",
    "print(x)\n",
    "\n",
    "if x:\n",
    "    print('Yes, there is atleast one match')\n",
    "else:\n",
    "    print('No match')"
   ]
  },
  {
   "cell_type": "code",
   "execution_count": 27,
   "id": "b8060c4a",
   "metadata": {},
   "outputs": [
    {
     "name": "stdout",
     "output_type": "stream",
     "text": [
      "['T', 'h', 'e', ' ', 'i', ' ', 'i', ' ', 's', 'p', 'i']\n",
      "Yes, there is atleast one match\n"
     ]
    }
   ],
   "source": [
    "#find a match other than a,r or n,finding individual characters\n",
    "txt='The rain in spain'\n",
    "x=re.findall('[^arn]',txt)\n",
    "print(x)\n",
    "\n",
    "if x:\n",
    "    print('Yes, there is atleast one match')\n",
    "else:\n",
    "    print('No match')"
   ]
  },
  {
   "cell_type": "code",
   "execution_count": 28,
   "id": "edab2ac8",
   "metadata": {},
   "outputs": [
    {
     "name": "stdout",
     "output_type": "stream",
     "text": [
      "['1', '2']\n",
      "Yes, there is atleast one match\n"
     ]
    }
   ],
   "source": [
    "#find digits from 0-3\n",
    "txt='The rain in spain129'\n",
    "x=re.findall('[0123]',txt)\n",
    "print(x)\n",
    "if x:\n",
    "    print('Yes, there is atleast one match')\n",
    "else:\n",
    "    print('No match')\n",
    "\n"
   ]
  },
  {
   "cell_type": "code",
   "execution_count": 29,
   "id": "9bc0b405",
   "metadata": {},
   "outputs": [
    {
     "name": "stdout",
     "output_type": "stream",
     "text": [
      "['8', 't', 'i', 'm', 'e', 's', 'b', 'e', 'f', 'o', 'r', 'e', '1', '1', '4', '5', 'A', 'M']\n",
      "Yes, there is atleast one match\n"
     ]
    }
   ],
   "source": [
    "#check if strings has any characters from a to z lower case and A-Z upper case\n",
    "txt='8 times before 11:45 AM'\n",
    "x=re.findall('[a-zA-Z0-9]',txt)\n",
    "print(x)\n",
    "if x:\n",
    "    print('Yes, there is atleast one match')\n",
    "else:\n",
    "    print('No match')\n",
    "\n"
   ]
  },
  {
   "cell_type": "code",
   "execution_count": null,
   "id": "0beb1dd9",
   "metadata": {},
   "outputs": [],
   "source": []
  }
 ],
 "metadata": {
  "kernelspec": {
   "display_name": "Python 3 (ipykernel)",
   "language": "python",
   "name": "python3"
  },
  "language_info": {
   "codemirror_mode": {
    "name": "ipython",
    "version": 3
   },
   "file_extension": ".py",
   "mimetype": "text/x-python",
   "name": "python",
   "nbconvert_exporter": "python",
   "pygments_lexer": "ipython3",
   "version": "3.9.13"
  }
 },
 "nbformat": 4,
 "nbformat_minor": 5
}
